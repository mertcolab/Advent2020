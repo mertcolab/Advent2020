{
  "nbformat": 4,
  "nbformat_minor": 0,
  "metadata": {
    "colab": {
      "name": "p3.ipynb",
      "provenance": [],
      "collapsed_sections": [],
      "toc_visible": true,
      "authorship_tag": "ABX9TyNBVreviVL/VpnacUaUOvKE",
      "include_colab_link": true
    },
    "kernelspec": {
      "name": "python3",
      "display_name": "Python 3"
    }
  },
  "cells": [
    {
      "cell_type": "markdown",
      "metadata": {
        "id": "view-in-github",
        "colab_type": "text"
      },
      "source": [
        "<a href=\"https://colab.research.google.com/github/mertcolab/Advent2020/blob/main/p3.ipynb\" target=\"_parent\"><img src=\"https://colab.research.google.com/assets/colab-badge.svg\" alt=\"Open In Colab\"/></a>"
      ]
    },
    {
      "cell_type": "markdown",
      "metadata": {
        "id": "b6O4_oR3Q-gO"
      },
      "source": [
        "# Day 3: Tobogoggan Trajectory\n",
        "\n",
        "### Note: The solution to both parts are given in same loop.\n",
        "\n"
      ]
    },
    {
      "cell_type": "markdown",
      "metadata": {
        "id": "oDR5jujArnyw"
      },
      "source": [
        "### Part 1 \n",
        "With the toboggan login problems resolved, you set off toward the airport. While travel by toboggan might be easy, it's certainly not safe: there's very minimal steering and the area is covered in trees. You'll need to see which angles will take you near the fewest trees.\n",
        "\n",
        "Due to the local geology, trees in this area only grow on exact integer coordinates in a grid. You make a map (your puzzle input) of the open squares (.) and trees (#) you can see. For example:\n",
        "\n",
        "\n",
        "```\n",
        "\n",
        "..##.......\n",
        "#...#...#..\n",
        ".#....#..#.\n",
        "..#.#...#.#\n",
        ".#...##..#.\n",
        "..#.##.....\n",
        ".#.#.#....#\n",
        ".#........#\n",
        "#.##...#...\n",
        "#...##....#\n",
        ".#..#...#.#\n",
        "```\n",
        "\n",
        "\n",
        "These aren't the only trees, though; due to something you read about once involving arboreal genetics and biome stability, the same pattern repeats to the right many times:\n",
        "```\n",
        "..##.........##.........##.........##.........##.........##.......  --->\n",
        "#...#...#..#...#...#..#...#...#..#...#...#..#...#...#..#...#...#..\n",
        ".#....#..#..#....#..#..#....#..#..#....#..#..#....#..#..#....#..#.\n",
        "..#.#...#.#..#.#...#.#..#.#...#.#..#.#...#.#..#.#...#.#..#.#...#.#\n",
        ".#...##..#..#...##..#..#...##..#..#...##..#..#...##..#..#...##..#.\n",
        "..#.##.......#.##.......#.##.......#.##.......#.##.......#.##.....  --->\n",
        ".#.#.#....#.#.#.#....#.#.#.#....#.#.#.#....#.#.#.#....#.#.#.#....#\n",
        ".#........#.#........#.#........#.#........#.#........#.#........#\n",
        "#.##...#...#.##...#...#.##...#...#.##...#...#.##...#...#.##...#...\n",
        "#...##....##...##....##...##....##...##....##...##....##...##....#\n",
        ".#..#...#.#.#..#...#.#.#..#...#.#.#..#...#.#.#..#...#.#.#..#...#.#  --->\n",
        "```\n",
        "You start on the open square (.) in the top-left corner and need to reach the bottom (below the bottom-most row on your map).\n",
        "\n",
        "The toboggan can only follow a few specific slopes (you opted for a cheaper model that prefers rational numbers); start by counting all the trees you would encounter for the slope right 3, down 1:\n",
        "\n",
        "From your starting position at the top-left, check the position that is right 3 and down 1. Then, check the position that is right 3 and down 1 from there, and so on until you go past the bottom of the map.\n",
        "\n",
        "The locations you'd check in the above example are marked here with O where there was an open square and X where there was a tree:\n",
        "```\n",
        "..##.........##.........##.........##.........##.........##.......  --->\n",
        "#..O#...#..#...#...#..#...#...#..#...#...#..#...#...#..#...#...#..\n",
        ".#....X..#..#....#..#..#....#..#..#....#..#..#....#..#..#....#..#.\n",
        "..#.#...#O#..#.#...#.#..#.#...#.#..#.#...#.#..#.#...#.#..#.#...#.#\n",
        ".#...##..#..X...##..#..#...##..#..#...##..#..#...##..#..#...##..#.\n",
        "..#.##.......#.X#.......#.##.......#.##.......#.##.......#.##.....  --->\n",
        ".#.#.#....#.#.#.#.O..#.#.#.#....#.#.#.#....#.#.#.#....#.#.#.#....#\n",
        ".#........#.#........X.#........#.#........#.#........#.#........#\n",
        "#.##...#...#.##...#...#.X#...#...#.##...#...#.##...#...#.##...#...\n",
        "#...##....##...##....##...#X....##...##....##...##....##...##....#\n",
        ".#..#...#.#.#..#...#.#.#..#...X.#.#..#...#.#.#..#...#.#.#..#...#.#  --->\n",
        "```\n",
        "In this example, traversing the map using this slope would cause you to encounter 7 trees.\n",
        "\n",
        "Starting at the top-left corner of your map and following a slope of right 3 and down 1, how many trees would you encounter?\n",
        "\n"
      ]
    },
    {
      "cell_type": "markdown",
      "metadata": {
        "id": "Ux-ttUUAiP4s"
      },
      "source": [
        "### Part Two\n",
        "Time to check the rest of the slopes - you need to minimize the probability of a sudden arboreal stop, after all.\n",
        "\n",
        "Determine the number of trees you would encounter if, for each of the following slopes, you start at the top-left corner and traverse the map all the way to the bottom:\n",
        "\n",
        "Right 1, down 1.\n",
        "\n",
        "Right 3, down 1. (This is the slope you already checked.)\n",
        "\n",
        "Right 5, down 1.\n",
        "\n",
        "Right 7, down 1.\n",
        "\n",
        "Right 1, down 2.\n",
        "\n",
        "In the above example, these slopes would find 2, 7, 3, 4, and 2 tree(s) \n",
        "respectively; multiplied together, these produce the answer 336.\n",
        "\n",
        "What do you get if you multiply together the number of trees encountered on each of the listed slopes?"
      ]
    },
    {
      "cell_type": "code",
      "metadata": {
        "colab": {
          "base_uri": "https://localhost:8080/"
        },
        "id": "s31yIM2mQ3Vk",
        "outputId": "8899bce3-01fd-494f-bda5-d111ce4fe5eb"
      },
      "source": [
        "from google.colab import drive\n",
        "drive.mount('gdrive')"
      ],
      "execution_count": 1,
      "outputs": [
        {
          "output_type": "stream",
          "text": [
            "Mounted at gdrive\n"
          ],
          "name": "stdout"
        }
      ]
    },
    {
      "cell_type": "code",
      "metadata": {
        "id": "eT1IfzrbRM2B"
      },
      "source": [
        "path = \"/content/gdrive/My Drive/Colab Notebooks/Advent2020/p3_input.txt\"\n",
        "myfile = open(path)"
      ],
      "execution_count": 3,
      "outputs": []
    },
    {
      "cell_type": "code",
      "metadata": {
        "id": "BTpJrWhfShiS"
      },
      "source": [
        "import pandas as pd\n",
        "\n",
        "df = pd.read_csv(path, header=None)#, sep=' ', names=[\"numbers\",\"rule\",\"password\"])\n"
      ],
      "execution_count": 5,
      "outputs": []
    },
    {
      "cell_type": "code",
      "metadata": {
        "colab": {
          "base_uri": "https://localhost:8080/"
        },
        "id": "6mFg0kmuStHB",
        "outputId": "a5e8a032-a5e0-428e-c458-a37f0037a667"
      },
      "source": [
        "df.info(verbose=True)"
      ],
      "execution_count": 6,
      "outputs": [
        {
          "output_type": "stream",
          "text": [
            "<class 'pandas.core.frame.DataFrame'>\n",
            "RangeIndex: 323 entries, 0 to 322\n",
            "Data columns (total 1 columns):\n",
            " #   Column  Non-Null Count  Dtype \n",
            "---  ------  --------------  ----- \n",
            " 0   0       323 non-null    object\n",
            "dtypes: object(1)\n",
            "memory usage: 2.6+ KB\n"
          ],
          "name": "stdout"
        }
      ]
    },
    {
      "cell_type": "code",
      "metadata": {
        "id": "ergdLfV0Ucly",
        "colab": {
          "base_uri": "https://localhost:8080/"
        },
        "outputId": "ed9b9604-2755-4456-baa5-0a5e113646ba"
      },
      "source": [
        "strategies = [[1,1],[1,3],[1,5],[1,7],[2,1]]\n",
        "mult = 1\n",
        "for step_down, step_right in strategies:\n",
        "  coord_x, coord_y, tree_counter = 0, 0, 0\n",
        "\n",
        "  while coord_y < len(df):\n",
        "    if df.iloc[coord_y][0][coord_x] == '#':\n",
        "      tree_counter += 1\n",
        "\n",
        "    coord_x = (coord_x + step_right)%len(df.iloc[coord_y][0])\n",
        "    coord_y += step_down\n",
        "  print('The path with {} right, {} down has {} trees on path'.format(step_right, step_down, tree_counter))\n",
        "  mult *= tree_counter\n",
        "print('\\nThe multiplication then makes : {}'.format(mult))"
      ],
      "execution_count": 47,
      "outputs": [
        {
          "output_type": "stream",
          "text": [
            "The path with 1 right, 1 down has 79 trees on path\n",
            "The path with 3 right, 1 down has 156 trees on path\n",
            "The path with 5 right, 1 down has 85 trees on path\n",
            "The path with 7 right, 1 down has 82 trees on path\n",
            "The path with 1 right, 2 down has 41 trees on path\n",
            "\n",
            "The multiplication then makes : 3521829480\n"
          ],
          "name": "stdout"
        }
      ]
    },
    {
      "cell_type": "code",
      "metadata": {
        "id": "eIuHbUipja0o"
      },
      "source": [
        ""
      ],
      "execution_count": null,
      "outputs": []
    }
  ]
}