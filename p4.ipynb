{
  "nbformat": 4,
  "nbformat_minor": 0,
  "metadata": {
    "colab": {
      "name": " p4.ipynb",
      "provenance": [],
      "collapsed_sections": [],
      "authorship_tag": "ABX9TyMnIN8M0bIvZlzfACcsWq/H",
      "include_colab_link": true
    },
    "kernelspec": {
      "name": "python3",
      "display_name": "Python 3"
    }
  },
  "cells": [
    {
      "cell_type": "markdown",
      "metadata": {
        "id": "view-in-github",
        "colab_type": "text"
      },
      "source": [
        "<a href=\"https://colab.research.google.com/github/mertcolab/Advent2020/blob/main/p4.ipynb\" target=\"_parent\"><img src=\"https://colab.research.google.com/assets/colab-badge.svg\" alt=\"Open In Colab\"/></a>"
      ]
    },
    {
      "cell_type": "markdown",
      "metadata": {
        "id": "b6O4_oR3Q-gO"
      },
      "source": [
        "# Day 4: Passport Processing\n",
        "\n",
        "### Part 1 \n",
        "\n",
        "You arrive at the airport only to realize that you grabbed your North Pole Credentials instead of your passport. While these documents are extremely similar, North Pole Credentials aren't issued by a country and therefore aren't actually valid documentation for travel in most of the world.\n",
        "\n",
        "\n",
        "It seems like you're not the only one having problems, though; a very long line has formed for the automatic passport scanners, and the delay could upset your travel itinerary.\n",
        "\n",
        "\n",
        "Due to some questionable network security, you realize you might be able to solve both of these problems at the same time.\n",
        "\n",
        "\n",
        "The automatic passport scanners are slow because they're having trouble detecting which passports have all required fields. The expected fields are as follows:\n",
        "\n",
        "\n",
        "* byr (Birth Year)\n",
        "* iyr (Issue Year)\n",
        "* eyr (Expiration Year)\n",
        "* hgt (Height)\n",
        "* hcl (Hair Color)\n",
        "* ecl (Eye Color)\n",
        "* pid (Passport ID)\n",
        "* cid (Country ID)\n",
        "\n",
        "Passport data is validated in batch files (your puzzle input). Each passport is represented as a sequence of key:value pairs separated by spaces or newlines. Passports are separated by blank lines.\n",
        "\n",
        "\n",
        "Here is an example batch file containing four passports:\n",
        "\n",
        "\n",
        "* ecl:gry pid:860033327 eyr:2020 hcl:#fffffd <br>\n",
        "  byr:1937 iyr:2017 cid:147 hgt:183cm\n",
        "\n",
        "\n",
        "* iyr:2013 ecl:amb cid:350 eyr:2023 pid:028048884<br>\n",
        "hcl:#cfa07d byr:1929\n",
        "\n",
        "* hcl:#ae17e1 iyr:2013<br>\n",
        "eyr:2024<br>\n",
        "ecl:brn pid:760753108 byr:1931<br>\n",
        "hgt:179cm\n",
        "\n",
        "* hcl:#cfa07d eyr:2025 pid:166559648<br>\n",
        "iyr:2011 ecl:brn hgt:59in<br>\n",
        "\n",
        "The first passport is valid - all eight fields are present. \n",
        "\n",
        "The second passport  is invalid - it is missing hgt (the Height field).\n",
        "\n",
        "\n",
        "The third passport is interesting; the only missing field is cid, so it looks like data from North Pole Credentials, not a passport at all! Surely, nobody would mind if you made the system temporarily ignore missing cid fields. Treat this \"passport\" as valid.\n",
        "\n",
        "\n",
        "The fourth passport is missing two fields, cid and byr. Missing cid is fine, but missing any other field is not, so this passport is invalid.\n",
        "\n",
        "\n",
        "According to the above rules, your improved system would report 2 valid passports.\n",
        "\n",
        "\n",
        "Count the number of valid passports - those that have all required fields. Treat cid as optional. In your batch file, how many passports are valid?\n",
        "\n",
        "\n"
      ]
    },
    {
      "cell_type": "code",
      "metadata": {
        "colab": {
          "base_uri": "https://localhost:8080/"
        },
        "id": "s31yIM2mQ3Vk",
        "outputId": "ecf2b690-e9f4-4e5b-bbee-a5a1498af900"
      },
      "source": [
        "from google.colab import drive\n",
        "drive.mount('gdrive')"
      ],
      "execution_count": 1,
      "outputs": [
        {
          "output_type": "stream",
          "text": [
            "Mounted at gdrive\n"
          ],
          "name": "stdout"
        }
      ]
    },
    {
      "cell_type": "code",
      "metadata": {
        "id": "eT1IfzrbRM2B"
      },
      "source": [
        "path = \"/content/gdrive/My Drive/Colab Notebooks/Advent2020/p4_input.txt\"\n",
        "myfile = open(path)"
      ],
      "execution_count": 2,
      "outputs": []
    },
    {
      "cell_type": "code",
      "metadata": {
        "id": "BTpJrWhfShiS"
      },
      "source": [
        "import re"
      ],
      "execution_count": 3,
      "outputs": []
    },
    {
      "cell_type": "code",
      "metadata": {
        "colab": {
          "base_uri": "https://localhost:8080/"
        },
        "id": "lqscjifrfpUl",
        "outputId": "a8f46d2a-c20f-4fbe-d588-93b43c120e90"
      },
      "source": [
        "data = []\n",
        "\n",
        "with open(path) as file:\n",
        "  record = []\n",
        "  for line in file.read().split('\\n'):\n",
        "    if line != '':\n",
        "      for element in line.split(' '):\n",
        "        record.append(element)\n",
        "    else:\n",
        "      data.append(record)\n",
        "      record = []\n",
        "\n",
        "print(len(data))"
      ],
      "execution_count": 4,
      "outputs": [
        {
          "output_type": "stream",
          "text": [
            "279\n"
          ],
          "name": "stdout"
        }
      ]
    },
    {
      "cell_type": "code",
      "metadata": {
        "id": "ergdLfV0Ucly",
        "colab": {
          "base_uri": "https://localhost:8080/"
        },
        "outputId": "8e625a8e-e05b-424c-e156-636fa9787389"
      },
      "source": [
        "counter = 0\n",
        "for i in range(len(data)):\n",
        "    entry = {'pid':0, 'byr':0, 'iyr':0, 'eyr':0, 'hgt':0, 'hcl':0, 'ecl':0 }\n",
        "    checklist =  {'byr':1, 'iyr':1, 'eyr':1, 'hgt':1, 'hcl':1, 'ecl':1, 'pid':1}\n",
        "    for member in data[i]:\n",
        "      key, value = member.split(':')\n",
        "      \n",
        "      # ignoring cid\n",
        "      if key!='cid':\n",
        "        checklist[key]-=1\n",
        "        entry[key]=value\n",
        "    \n",
        "    # all values of checklist is exactly zero and there are exactly 7 keys.\n",
        "    if (all(value == 0 for value in checklist.values()) and len(checklist.keys())==7):\n",
        "      counter+=1\n",
        "  \n",
        "\n",
        "print(\"There are {} valid entries\".format(counter))"
      ],
      "execution_count": 5,
      "outputs": [
        {
          "output_type": "stream",
          "text": [
            "There are 213 valid entries\n"
          ],
          "name": "stdout"
        }
      ]
    },
    {
      "cell_type": "markdown",
      "metadata": {
        "id": "q2SyubbCdm0Q"
      },
      "source": [
        "### Part 2\n",
        "\n",
        "The line is moving more quickly now, but you overhear airport security talking about how passports with invalid data are getting through. Better add some data validation, quick!\n",
        "\n",
        "You can continue to ignore the cid field, but each other field has strict rules about what values are valid for automatic validation:\n",
        "\n",
        "byr (Birth Year) - four digits; at least 1920 and at most 2002.<br>\n",
        "iyr (Issue Year) - four digits; at least 2010 and at most 2020.<br>\n",
        "eyr (Expiration Year) - four digits; at least 2020 and at most 2030.<br>\n",
        "hgt (Height) - a number followed by either cm or in:<br>\n",
        "If cm, the number must be at least 150 and at most 193.<br>\n",
        "If in, the number must be at least 59 and at most 76.<br>\n",
        "hcl (Hair Color) - a # followed by exactly six characters 0-9 or a-f.<br>\n",
        "ecl (Eye Color) - exactly one of: amb blu brn gry grn hzl oth.<br>\n",
        "pid (Passport ID) - a nine-digit number, including leading zeroes.<br>\n",
        "cid (Country ID) - ignored, missing or not.<br>\n",
        "Your job is to count the passports where all required fields are both present and valid according to the above rules. Here are some example values:<br>\n",
        "\n",
        "```\n",
        "byr valid:   2002\n",
        "byr invalid: 2003\n",
        "```\n",
        "```\n",
        "hgt valid:   60in\n",
        "hgt valid:   190cm\n",
        "hgt invalid: 190in\n",
        "hgt invalid: 190\n",
        "```\n",
        "```\n",
        "hcl valid:   #123abc\n",
        "hcl invalid: #123abz\n",
        "hcl invalid: 123abc\n",
        "```\n",
        "```\n",
        "ecl valid:   brn\n",
        "ecl invalid: wat\n",
        "```\n",
        "```\n",
        "pid valid:   000000001\n",
        "pid invalid: 0123456789\n",
        "```\n",
        "Here are some invalid passports:\n",
        "```\n",
        "eyr:1972 cid:100\n",
        "hcl:#18171d ecl:amb hgt:170 pid:186cm iyr:2018 byr:1926\n",
        "```\n",
        "\n",
        "```\n",
        "iyr:2019\n",
        "hcl:#602927 eyr:1967 hgt:170cm\n",
        "ecl:grn pid:012533040 byr:1946\n",
        "```\n",
        "```\n",
        "hcl:dab227 iyr:2012\n",
        "ecl:brn hgt:182cm pid:021572410 eyr:2020 byr:1992 cid:277\n",
        "```\n",
        "```\n",
        "hgt:59cm ecl:zzz\n",
        "eyr:2038 hcl:74454a iyr:2023\n",
        "pid:3556412378 byr:2007\n",
        "```\n",
        "Here are some valid passports:\n",
        "\n",
        "```\n",
        "pid:087499704 hgt:74in ecl:grn iyr:2012 eyr:2030 byr:1980\n",
        "hcl:#623a2f\n",
        "```\n",
        "```\n",
        "eyr:2029 ecl:blu cid:129 byr:1989\n",
        "iyr:2014 pid:896056539 hcl:#a97842 hgt:165cm\n",
        "```\n",
        "```\n",
        "hcl:#888785\n",
        "hgt:164cm byr:2001 iyr:2015 cid:88\n",
        "pid:545766238 ecl:hzl\n",
        "eyr:2022\n",
        "```\n",
        "```\n",
        "iyr:2010 hgt:158cm hcl:#b6652a ecl:blu byr:1944 eyr:2021 pid:093154719\n",
        "```\n",
        "Count the number of valid passports - those that have all required fields and valid values. Continue to treat cid as optional. In your batch file, how many passports are valid?"
      ]
    },
    {
      "cell_type": "markdown",
      "metadata": {
        "id": "JQecJLyDehyQ"
      },
      "source": [
        "#### Supplementary Function Definitions"
      ]
    },
    {
      "cell_type": "code",
      "metadata": {
        "id": "LjtkQoNnjgq4"
      },
      "source": [
        "\n",
        "def regex_check(rule, input):\n",
        "  return re.match(rule, input ) is not None\n",
        "\n",
        "eyecolorlist = ['amb', 'blu', 'brn', 'gry', 'grn', 'hzl', 'oth']\n",
        "\n",
        "def year_limit_check(mincon, maxcon, value):\n",
        "  value = int(value)\n",
        "  return mincon <= value  and value<= maxcon\n",
        "\n",
        "def is_in_list(list, value):\n",
        "  for i in list:\n",
        "    if i == value:\n",
        "      return True\n",
        "  return False"
      ],
      "execution_count": 6,
      "outputs": []
    },
    {
      "cell_type": "code",
      "metadata": {
        "colab": {
          "base_uri": "https://localhost:8080/"
        },
        "id": "l2fncyAQhk6h",
        "outputId": "8740cebc-5ca8-4fe0-c2bd-d880aa6b829f"
      },
      "source": [
        "counter = 0\n",
        "listofvalid2 = []\n",
        "for i in range(len(data)):\n",
        "  entry = {'pid':0, 'byr':0, 'iyr':0, 'eyr':0, 'hgt':0, 'hcl':0, 'ecl':0 }\n",
        "  checklist =  {'byr':1, 'iyr':1, 'eyr':1, 'hgt':1, 'hcl':1, 'ecl':1, 'pid':1}\n",
        "  for member in data[i]:\n",
        "    key, value = member.split(':')\n",
        "    \n",
        "    # ignoring cid \n",
        "    if key!='cid':\n",
        "      checklist[key]-=1\n",
        "      entry[key]=value\n",
        "\n",
        "  # all values of checklist is exactly zero and there are exactly 7 keys. \n",
        "  if (all(value == 0 for value in checklist.values()) and len(checklist.keys())==7):\n",
        "    # year limits \n",
        "    if (year_limit_check(1920, 2002, entry['byr']) and year_limit_check(2010, 2020, entry['iyr']) and year_limit_check(2020, 2030, entry['eyr']) ):\n",
        "      # pid rule check 9 digit number\n",
        "      if (regex_check('[0-9]{9}', entry['pid'])):\n",
        "        #color code check hair # 6 hex digit; eye color 3 letters and (height in inches or cm)\n",
        "        if (regex_check('#[a-f0-9]{6}', entry['hcl']) and is_in_list(eyecolorlist, entry['ecl']) and ( (entry['hgt'][-2:]=='in' and 59<=int(entry['hgt'][:-2]) and 76>=int(entry['hgt'][:-2])) or (entry['hgt'][-2:]=='cm' and 150<=int(entry['hgt'][:-2]) and 193>=int(entry['hgt'][:-2])) )): \n",
        "          counter+=1\n",
        "          listofvalid2.append(entry)\n",
        "          \n",
        "print(\"There are {} valid entries\".format(counter))"
      ],
      "execution_count": 8,
      "outputs": [
        {
          "output_type": "stream",
          "text": [
            "There are 148 valid entries\n"
          ],
          "name": "stdout"
        }
      ]
    },
    {
      "cell_type": "markdown",
      "metadata": {
        "id": "VCQsdbp0uns9"
      },
      "source": [
        "My initial version was giving 147, now it gives 148. There should be a mistake but I won't go into details for now.\n",
        "\n"
      ]
    }
  ]
}