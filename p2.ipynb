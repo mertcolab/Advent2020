{
  "nbformat": 4,
  "nbformat_minor": 0,
  "metadata": {
    "colab": {
      "name": "p2.ipynb",
      "provenance": [],
      "collapsed_sections": [],
      "toc_visible": true,
      "authorship_tag": "ABX9TyN/Wioy4rj3DEiB59IJNOM/",
      "include_colab_link": true
    },
    "kernelspec": {
      "name": "python3",
      "display_name": "Python 3"
    }
  },
  "cells": [
    {
      "cell_type": "markdown",
      "metadata": {
        "id": "view-in-github",
        "colab_type": "text"
      },
      "source": [
        "<a href=\"https://colab.research.google.com/github/mertcolab/Advent2020/blob/main/p2.ipynb\" target=\"_parent\"><img src=\"https://colab.research.google.com/assets/colab-badge.svg\" alt=\"Open In Colab\"/></a>"
      ]
    },
    {
      "cell_type": "markdown",
      "metadata": {
        "id": "b6O4_oR3Q-gO"
      },
      "source": [
        "# Day 2: Password Philosophy\n",
        "\n"
      ]
    },
    {
      "cell_type": "markdown",
      "metadata": {
        "id": "oDR5jujArnyw"
      },
      "source": [
        "### Part 1 \n",
        "\n",
        "Your flight departs in a few days from the coastal airport; the easiest way down to the coast from here is via toboggan.\n",
        "\n",
        "The shopkeeper at the North Pole Toboggan Rental Shop is having a bad day. \"Something's wrong with our computers; we can't log in!\" You ask if you can take a look.\n",
        "\n",
        "Their password database seems to be a little corrupted: some of the passwords wouldn't have been allowed by the Official Toboggan Corporate Policy that was in effect when they were chosen.\n",
        "\n",
        "To try to debug the problem, they have created a list (your puzzle input) of passwords (according to the corrupted database) and the corporate policy when that password was set.\n",
        "\n",
        "For example, suppose you have the following list:\n",
        "1-3 a: abcde\n",
        "1-3 b: cdefg\n",
        "2-9 c: ccccccccc\n",
        "\n",
        "Each line gives the password policy and then the password. The password policy indicates the lowest and highest number of times a given letter must appear for the password to be valid. For example, 1-3 a means that the password must contain a at least 1 time and at most 3 times.\n",
        "\n",
        "In the above example, 2 passwords are valid. The middle password, cdefg, is not; it contains no instances of b, but needs at least 1. The first and third passwords are valid: they contain one a or nine c, both within the limits of their respective policies.\n",
        "\n",
        "How many passwords are valid according to their policies?"
      ]
    },
    {
      "cell_type": "code",
      "metadata": {
        "colab": {
          "base_uri": "https://localhost:8080/"
        },
        "id": "s31yIM2mQ3Vk",
        "outputId": "2d2858d2-831f-4092-d447-1e9540edc6bf"
      },
      "source": [
        "from google.colab import drive\n",
        "drive.mount('gdrive')"
      ],
      "execution_count": null,
      "outputs": [
        {
          "output_type": "stream",
          "text": [
            "Mounted at gdrive\n"
          ],
          "name": "stdout"
        }
      ]
    },
    {
      "cell_type": "code",
      "metadata": {
        "id": "eT1IfzrbRM2B"
      },
      "source": [
        "path = \"/content/gdrive/My Drive/Colab Notebooks/Advent2020/p2_input.txt\"\n",
        "myfile = open(path)"
      ],
      "execution_count": null,
      "outputs": []
    },
    {
      "cell_type": "code",
      "metadata": {
        "id": "BTpJrWhfShiS"
      },
      "source": [
        "import pandas as pd\n",
        "\n",
        "df = pd.read_csv(path, header=None, sep=' ', names=[\"numbers\",\"rule\",\"password\"])\n"
      ],
      "execution_count": null,
      "outputs": []
    },
    {
      "cell_type": "code",
      "metadata": {
        "colab": {
          "base_uri": "https://localhost:8080/"
        },
        "id": "6mFg0kmuStHB",
        "outputId": "c6080338-2102-4106-fb45-3a049cd805ea"
      },
      "source": [
        "df.info(verbose=True)"
      ],
      "execution_count": null,
      "outputs": [
        {
          "output_type": "stream",
          "text": [
            "<class 'pandas.core.frame.DataFrame'>\n",
            "RangeIndex: 1000 entries, 0 to 999\n",
            "Data columns (total 3 columns):\n",
            " #   Column    Non-Null Count  Dtype \n",
            "---  ------    --------------  ----- \n",
            " 0   numbers   1000 non-null   object\n",
            " 1   rule      1000 non-null   object\n",
            " 2   password  1000 non-null   object\n",
            "dtypes: object(3)\n",
            "memory usage: 23.6+ KB\n"
          ],
          "name": "stdout"
        }
      ]
    },
    {
      "cell_type": "code",
      "metadata": {
        "id": "ergdLfV0Ucly",
        "colab": {
          "base_uri": "https://localhost:8080/"
        },
        "outputId": "7bfe9c3e-20dc-4578-a6c7-f67f53253e02"
      },
      "source": [
        "counter = 0 \n",
        "for i in range(len(df)):\n",
        "  min,max = df.iloc[i]['numbers'].split('-')\n",
        "  rule = df.iloc[i]['rule'][0]\n",
        "  text = df.iloc[i]['password']\n",
        "  times = text.count(rule)\n",
        "  if times>=int(min) and times<=int(max):\n",
        "    counter+=1\n",
        "print(\"There are {} valid passwords\".format(counter))"
      ],
      "execution_count": null,
      "outputs": [
        {
          "output_type": "stream",
          "text": [
            "There are 439 valid passwords\n"
          ],
          "name": "stdout"
        }
      ]
    },
    {
      "cell_type": "markdown",
      "metadata": {
        "id": "fyETZJK3ohlo"
      },
      "source": [
        "### Part Two\n",
        "\n",
        "While it appears you validated the passwords correctly, they don't seem to be what the Official Toboggan Corporate Authentication System is expecting.\n",
        "\n",
        "The shopkeeper suddenly realizes that he just accidentally explained the password policy rules from his old job at the sled rental place down the street! The Official Toboggan Corporate Policy actually works a little differently.\n",
        "\n",
        "Each policy actually describes two positions in the password, where 1 means the first character, 2 means the second character, and so on. (Be careful; Toboggan Corporate Policies have no concept of \"index zero\"!) Exactly one of these positions must contain the given letter. Other occurrences of the letter are irrelevant for the purposes of policy enforcement.\n",
        "\n",
        "Given the same example list from above:\n",
        "\n",
        "1-3 a: abcde is valid: position 1 contains a and position 3 does not.\n",
        "\n",
        "1-3 b: cdefg is invalid: neither position 1 nor position 3 contains b.\n",
        "\n",
        "2-9 c: ccccccccc is invalid: both position 2 and position 9 contain c.\n",
        "\n",
        "\n",
        "How many passwords are valid according to the new interpretation of the policies?"
      ]
    },
    {
      "cell_type": "code",
      "metadata": {
        "colab": {
          "base_uri": "https://localhost:8080/"
        },
        "id": "m2FPftvZo1HB",
        "outputId": "0a18f9d0-c846-4793-f7b8-1b22a8e1b068"
      },
      "source": [
        "counter = 0 \n",
        "for i in range(len(df)):\n",
        "  poses = df.iloc[i]['numbers'].split('-')\n",
        "  pos1, pos2 = map(int, poses)\n",
        "  rule = df.iloc[i]['rule'][0]\n",
        "  text = df.iloc[i]['password']\n",
        "  if (text[pos1-1] == rule and text[pos2-1] != rule) or (text[pos1-1] != rule and text[pos2-1] == rule): \n",
        "    counter+=1\n",
        "print(\"There are {} valid passwords\".format(counter))"
      ],
      "execution_count": null,
      "outputs": [
        {
          "output_type": "stream",
          "text": [
            "There are 584 valid passwords\n"
          ],
          "name": "stdout"
        }
      ]
    },
    {
      "cell_type": "code",
      "metadata": {
        "id": "wl44k7Y1pflz"
      },
      "source": [
        ""
      ],
      "execution_count": null,
      "outputs": []
    }
  ]
}