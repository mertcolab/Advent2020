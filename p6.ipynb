{
  "nbformat": 4,
  "nbformat_minor": 0,
  "metadata": {
    "colab": {
      "name": "p6.ipynb",
      "provenance": [],
      "collapsed_sections": [],
      "authorship_tag": "ABX9TyMlIuig4AF58Rmgxu32OFrW",
      "include_colab_link": true
    },
    "kernelspec": {
      "name": "python3",
      "display_name": "Python 3"
    }
  },
  "cells": [
    {
      "cell_type": "markdown",
      "metadata": {
        "id": "view-in-github",
        "colab_type": "text"
      },
      "source": [
        "<a href=\"https://colab.research.google.com/github/mertcolab/Advent2020/blob/main/p6.ipynb\" target=\"_parent\"><img src=\"https://colab.research.google.com/assets/colab-badge.svg\" alt=\"Open In Colab\"/></a>"
      ]
    },
    {
      "cell_type": "markdown",
      "metadata": {
        "id": "IWoiEujMQOZw"
      },
      "source": [
        "#  Day 6: Custom Customs"
      ]
    },
    {
      "cell_type": "markdown",
      "metadata": {
        "id": "b6O4_oR3Q-gO"
      },
      "source": [
        "### Part 1\n",
        "\n",
        "As your flight approaches the regional airport where you'll switch to a much larger plane, customs declaration forms are distributed to the passengers.\n",
        "\n",
        "The form asks a series of 26 yes-or-no questions marked a through z. All you need to do is identify the questions for which anyone in your group answers \"yes\". Since your group is just you, this doesn't take very long.\n",
        "\n",
        "However, the person sitting next to you seems to be experiencing a language barrier and asks if you can help. For each of the people in their group, you write down the questions for which they answer \"yes\", one per line. For example:\n",
        "\n",
        "abcx\n",
        "abcy\n",
        "abcz\n",
        "In this group, there are 6 questions to which anyone answered \"yes\": a, b, c, x, y, and z. (Duplicate answers to the same question don't count extra; each question counts at most once.)\n",
        "\n",
        "Another group asks for your help, then another, and eventually you've collected answers from every group on the plane (your puzzle input). Each group's answers are separated by a blank line, and within each group, each person's answers are on a single line. For example:\n",
        "```\n",
        "abc\n",
        "\n",
        "a\n",
        "b\n",
        "c\n",
        "\n",
        "ab\n",
        "ac\n",
        "\n",
        "a\n",
        "a\n",
        "a\n",
        "a\n",
        "\n",
        "b\n",
        "```\n",
        "\n",
        "This list represents answers from five groups:\n",
        "\n",
        "The first group contains one person who answered \"yes\" to 3 questions: a, b, and c.\n",
        "The second group contains three people; combined, they answered \"yes\" to 3 questions: a, b, and c.\n",
        "The third group contains two people; combined, they answered \"yes\" to 3 questions: a, b, and c.\n",
        "The fourth group contains four people; combined, they answered \"yes\" to only 1 question, a.\n",
        "The last group contains one person who answered \"yes\" to only 1 question, b.\n",
        "In this example, the sum of these counts is 3 + 3 + 3 + 1 + 1 = 11.\n",
        "\n",
        "For each group, count the number of questions to which anyone answered \"yes\". What is the sum of those counts?\n",
        "\n",
        "\n"
      ]
    },
    {
      "cell_type": "code",
      "metadata": {
        "colab": {
          "base_uri": "https://localhost:8080/"
        },
        "id": "s31yIM2mQ3Vk",
        "outputId": "fca3900c-9111-403e-dad8-58e9ea7b9c8f"
      },
      "source": [
        "from google.colab import drive\n",
        "drive.mount('gdrive')"
      ],
      "execution_count": 3,
      "outputs": [
        {
          "output_type": "stream",
          "text": [
            "Drive already mounted at gdrive; to attempt to forcibly remount, call drive.mount(\"gdrive\", force_remount=True).\n"
          ],
          "name": "stdout"
        }
      ]
    },
    {
      "cell_type": "code",
      "metadata": {
        "id": "eT1IfzrbRM2B"
      },
      "source": [
        "path = \"/content/gdrive/My Drive/Colab Notebooks/Advent2020/p6_input.txt\"\n",
        "myfile = open(path)"
      ],
      "execution_count": 4,
      "outputs": []
    },
    {
      "cell_type": "code",
      "metadata": {
        "colab": {
          "base_uri": "https://localhost:8080/"
        },
        "id": "lqscjifrfpUl",
        "outputId": "c3f59e77-bccd-476e-f37c-645bf484240c"
      },
      "source": [
        "data = []\n",
        "counter = 0 \n",
        "with open(path) as file:\n",
        "  record = ''\n",
        "  for line in file.read().split('\\n'):\n",
        "    if line != '':\n",
        "      record = record + line\n",
        "    else:\n",
        "      record = set(record)\n",
        "      counter += len(record)\n",
        "      data.append(record)\n",
        "      record = ''\n",
        "\n",
        "print('The total number is {}'.format(counter))\n",
        "print(len(data))"
      ],
      "execution_count": 19,
      "outputs": [
        {
          "output_type": "stream",
          "text": [
            "The total number is 6662\n",
            "498\n"
          ],
          "name": "stdout"
        }
      ]
    },
    {
      "cell_type": "markdown",
      "metadata": {
        "id": "q2SyubbCdm0Q"
      },
      "source": [
        "### Part 2\n",
        "\n",
        "As you finish the last group's customs declaration, you notice that you misread one word in the instructions:\n",
        "\n",
        "You don't need to identify the questions to which anyone answered \"yes\"; you need to identify the questions to which everyone answered \"yes\"!\n",
        "\n",
        "Using the same example as above:\n",
        "```\n",
        "abc\n",
        "\n",
        "a\n",
        "b\n",
        "c\n",
        "\n",
        "ab\n",
        "ac\n",
        "\n",
        "a\n",
        "a\n",
        "a\n",
        "a\n",
        "\n",
        "b\n",
        "```\n",
        "This list represents answers from five groups:\n",
        "\n",
        "In the first group, everyone (all 1 person) answered \"yes\" to 3 questions: a, b, and c.\n",
        "In the second group, there is no question to which everyone answered \"yes\".\n",
        "In the third group, everyone answered yes to only 1 question, a. Since some people did not answer \"yes\" to b or c, they don't count.\n",
        "In the fourth group, everyone answered yes to only 1 question, a.\n",
        "In the fifth group, everyone (all 1 person) answered \"yes\" to 1 question, b.\n",
        "In this example, the sum of these counts is 3 + 0 + 1 + 1 + 1 = 6.\n",
        "\n",
        "For each group, count the number of questions to which everyone answered \"yes\". What is the sum of those counts?\n",
        "\n",
        "\n"
      ]
    },
    {
      "cell_type": "code",
      "metadata": {
        "colab": {
          "base_uri": "https://localhost:8080/"
        },
        "id": "DhpkYt47MIFr",
        "outputId": "986320ca-479f-4134-f020-37762b38f461"
      },
      "source": [
        "counter = 0\n",
        "with open(path) as file:\n",
        "  record = []\n",
        "  for line in file.read().split('\\n'):\n",
        "    if line != '':\n",
        "      for element in line.split(' '):\n",
        "        record.append(element)\n",
        "    else:\n",
        "      intersection = {}\n",
        "      for i in range(len(record)):\n",
        "        if i == 0:\n",
        "          intersection = set(record[i])\n",
        "        else:\n",
        "          intersection = intersection.intersection(set(record[i]))\n",
        "      counter += len(intersection)  \n",
        "      record = []\n",
        "\n",
        "print(\"The count result is {}\".format(counter))"
      ],
      "execution_count": 22,
      "outputs": [
        {
          "output_type": "stream",
          "text": [
            "The count result is 3382\n"
          ],
          "name": "stdout"
        }
      ]
    }
  ]
}