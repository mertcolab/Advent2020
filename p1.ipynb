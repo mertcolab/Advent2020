{
  "nbformat": 4,
  "nbformat_minor": 0,
  "metadata": {
    "colab": {
      "name": "p1.ipynb",
      "provenance": [],
      "collapsed_sections": [],
      "toc_visible": true,
      "include_colab_link": true
    },
    "kernelspec": {
      "name": "python3",
      "display_name": "Python 3"
    }
  },
  "cells": [
    {
      "cell_type": "markdown",
      "metadata": {
        "id": "view-in-github",
        "colab_type": "text"
      },
      "source": [
        "<a href=\"https://colab.research.google.com/github/mertcolab/Advert2020/blob/main/p1.ipynb\" target=\"_parent\"><img src=\"https://colab.research.google.com/assets/colab-badge.svg\" alt=\"Open In Colab\"/></a>"
      ]
    },
    {
      "cell_type": "markdown",
      "metadata": {
        "id": "b6O4_oR3Q-gO"
      },
      "source": [
        "# Day 1: Report Repair \n"
      ]
    },
    {
      "cell_type": "markdown",
      "metadata": {
        "id": "d-dK5bwKr3Ir"
      },
      "source": [
        "### Part 1 \n",
        "After saving Christmas five years in a row, you've decided to take a vacation at a nice resort on a tropical island. Surely, Christmas will go on without you.\n",
        "\n",
        "The tropical island has its own currency and is entirely cash-only. The gold coins used there have a little picture of a starfish; the locals just call them stars. None of the currency exchanges seem to have heard of them, but somehow, you'll need to find fifty of these coins by the time you arrive so you can pay the deposit on your room.\n",
        "\n",
        "To save your vacation, you need to get all fifty stars by December 25th.\n",
        "\n",
        "Collect stars by solving puzzles. Two puzzles will be made available on each day in the Advent calendar; the second puzzle is unlocked when you complete the first. Each puzzle grants one star. Good luck!\n",
        "\n",
        "Before you leave, the Elves in accounting just need you to fix your expense report (your puzzle input); apparently, something isn't quite adding up.\n",
        "\n",
        "Specifically, they need you to find the two entries that sum to 2020 and then multiply those two numbers together.\n",
        "\n",
        "For example, suppose your expense report contained the following:\n",
        "1721\n",
        "979\n",
        "366\n",
        "299\n",
        "675\n",
        "1456\n",
        "\n",
        "In this list, the two entries that sum to 2020 are 1721 and 299. Multiplying them together produces 1721 * 299 = 514579, so the correct answer is 514579.\n",
        "\n",
        "Of course, your expense report is much larger. Find the two entries that sum to 2020; what do you get if you multiply them together?\n",
        "\n",
        "To begin, get your puzzle input."
      ]
    },
    {
      "cell_type": "code",
      "metadata": {
        "colab": {
          "base_uri": "https://localhost:8080/"
        },
        "id": "s31yIM2mQ3Vk",
        "outputId": "0249d65e-9a55-4895-dc2f-6875c1114e37"
      },
      "source": [
        "from google.colab import drive\n",
        "drive.mount('gdrive')"
      ],
      "execution_count": null,
      "outputs": [
        {
          "output_type": "stream",
          "text": [
            "Mounted at gdrive\n"
          ],
          "name": "stdout"
        }
      ]
    },
    {
      "cell_type": "code",
      "metadata": {
        "id": "eT1IfzrbRM2B"
      },
      "source": [
        "path = \"/content/gdrive/My Drive/Colab Notebooks/Advert2020/p1_input.txt\"\n",
        "myfile = open(path)"
      ],
      "execution_count": null,
      "outputs": []
    },
    {
      "cell_type": "code",
      "metadata": {
        "id": "BTpJrWhfShiS"
      },
      "source": [
        "import pandas as pd\n",
        "\n",
        "df = pd.read_csv(path, header=None, names=[\"value\"])\n"
      ],
      "execution_count": null,
      "outputs": []
    },
    {
      "cell_type": "code",
      "metadata": {
        "colab": {
          "base_uri": "https://localhost:8080/"
        },
        "id": "6mFg0kmuStHB",
        "outputId": "00b6198b-7f20-425d-ec18-2e4bc1543a99"
      },
      "source": [
        "df.info(verbose=True)"
      ],
      "execution_count": null,
      "outputs": [
        {
          "output_type": "stream",
          "text": [
            "<class 'pandas.core.frame.DataFrame'>\n",
            "RangeIndex: 200 entries, 0 to 199\n",
            "Data columns (total 1 columns):\n",
            " #   Column  Non-Null Count  Dtype\n",
            "---  ------  --------------  -----\n",
            " 0   value   200 non-null    int64\n",
            "dtypes: int64(1)\n",
            "memory usage: 1.7 KB\n"
          ],
          "name": "stdout"
        }
      ]
    },
    {
      "cell_type": "code",
      "metadata": {
        "id": "ergdLfV0Ucly"
      },
      "source": [
        "df = df.sort_values(by='value', ignore_index=True)"
      ],
      "execution_count": null,
      "outputs": []
    },
    {
      "cell_type": "code",
      "metadata": {
        "colab": {
          "base_uri": "https://localhost:8080/"
        },
        "id": "TdUiaLmMZFzE",
        "outputId": "5f856140-f955-4b53-bc86-793c92a7b1ef"
      },
      "source": [
        "print('Number of Columns: {} Rows:{}'.format(len(df),len(df.columns)))"
      ],
      "execution_count": null,
      "outputs": [
        {
          "output_type": "stream",
          "text": [
            "Number of Columns: 200 Rows:1\n"
          ],
          "name": "stdout"
        }
      ]
    },
    {
      "cell_type": "code",
      "metadata": {
        "colab": {
          "base_uri": "https://localhost:8080/"
        },
        "id": "YSmsnbD_awY_",
        "outputId": "a52af324-e1fe-42ee-ef47-a51003d71b5b"
      },
      "source": [
        "df.iloc[-1]"
      ],
      "execution_count": null,
      "outputs": [
        {
          "output_type": "execute_result",
          "data": {
            "text/plain": [
              "value    2002\n",
              "Name: 199, dtype: int64"
            ]
          },
          "metadata": {
            "tags": []
          },
          "execution_count": 57
        }
      ]
    },
    {
      "cell_type": "code",
      "metadata": {
        "colab": {
          "base_uri": "https://localhost:8080/"
        },
        "id": "9sFkJ90qUyeI",
        "outputId": "9db0bb86-a36a-4542-c078-b78c43e1f3f3"
      },
      "source": [
        "value1 = 0\n",
        "value2 = 0\n",
        "done = False\n",
        "for i in range(len(df)):\n",
        "  value1 = df.iloc[i]['value']\n",
        "  need = 2020-value1\n",
        "  for k in range(-1,-len(df),-1):\n",
        "    value2 = df.iloc[k]['value']\n",
        "    if need == value2:\n",
        "      print('Value1 : {}, Value2 : {}'.format(value1,value2))\n",
        "      print('Result : {}'.format(value1*value2))\n",
        "      done = True\n",
        "      break\n",
        "\n",
        "    if need>value2:\n",
        "      break      \n",
        "  if done:\n",
        "    break  \n"
      ],
      "execution_count": null,
      "outputs": [
        {
          "output_type": "stream",
          "text": [
            "Value1 : 548, Value2 : 1472\n",
            "Result : 806656\n"
          ],
          "name": "stdout"
        }
      ]
    },
    {
      "cell_type": "markdown",
      "metadata": {
        "id": "dxK5oAnbsO0j"
      },
      "source": [
        "### Part 2 \n",
        "\n",
        "The Elves in accounting are thankful for your help; one of them even offers you a starfish coin they had left over from a past vacation. They offer you a second one if you can find three numbers in your expense report that meet the same criteria.\n",
        "\n",
        "Using the above example again, the three entries that sum to 2020 are 979, 366, and 675. Multiplying them together produces the answer, 241861950.\n",
        "\n",
        "In your expense report, what is the product of the three entries that sum to 2020?"
      ]
    },
    {
      "cell_type": "code",
      "metadata": {
        "colab": {
          "base_uri": "https://localhost:8080/"
        },
        "id": "JDPTkG-Ydu7i",
        "outputId": "812b7662-e6d0-4a50-abe9-832713391781"
      },
      "source": [
        "value1 = 0\n",
        "value2 = 0\n",
        "value3 = 0\n",
        "done = False\n",
        "for i in range(len(df)):\n",
        "  value1 = df.iloc[i]['value']\n",
        "  need = 2020-value1\n",
        "  for k in range(i+1, len(df)):\n",
        "    value2 = df.iloc[k]['value']\n",
        "    if value2 > need:\n",
        "      break\n",
        "\n",
        "    need -= value2\n",
        "    for l in range(-1,-len(df),-1):\n",
        "      value3 = df.iloc[l]['value']\n",
        "      if need == value3:\n",
        "        print('Value1 : {}, Value2 : {}, Value3 : {}'.format(value1,value2,value3))\n",
        "        print('Result : {}'.format(value1*value2*value3))\n",
        "        done = True\n",
        "        break\n",
        "      if need>value3:\n",
        "        break\n",
        "    \n",
        "    if done:\n",
        "      break\n",
        "  if done:\n",
        "    break\n",
        "\n"
      ],
      "execution_count": null,
      "outputs": [
        {
          "output_type": "stream",
          "text": [
            "NeEd , 320\n",
            "Value1 : 807, Value2 : 893, Value3 : 320\n",
            "Result : 230608320\n"
          ],
          "name": "stdout"
        }
      ]
    }
  ]
}