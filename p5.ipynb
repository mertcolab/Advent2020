{
  "nbformat": 4,
  "nbformat_minor": 0,
  "metadata": {
    "colab": {
      "name": "p5.ipynb",
      "provenance": [],
      "collapsed_sections": [],
      "authorship_tag": "ABX9TyNsfiI88gKMl6KpOwiwVqG9",
      "include_colab_link": true
    },
    "kernelspec": {
      "name": "python3",
      "display_name": "Python 3"
    }
  },
  "cells": [
    {
      "cell_type": "markdown",
      "metadata": {
        "id": "view-in-github",
        "colab_type": "text"
      },
      "source": [
        "<a href=\"https://colab.research.google.com/github/mertcolab/Advent2020/blob/main/p5.ipynb\" target=\"_parent\"><img src=\"https://colab.research.google.com/assets/colab-badge.svg\" alt=\"Open In Colab\"/></a>"
      ]
    },
    {
      "cell_type": "markdown",
      "metadata": {
        "id": "IWoiEujMQOZw"
      },
      "source": [
        "#  Day 5: Binary Boarding "
      ]
    },
    {
      "cell_type": "markdown",
      "metadata": {
        "id": "b6O4_oR3Q-gO"
      },
      "source": [
        "### Part 1 \n",
        "\n",
        "You board your plane only to discover a new problem: you dropped your boarding pass! You aren't sure which seat is yours, and all of the flight attendants are busy with the flood of people that suddenly made it through passport control.\n",
        "\n",
        "You write a quick program to use your phone's camera to scan all of the nearby boarding passes (your puzzle input); perhaps you can find your seat through process of elimination.\n",
        "\n",
        "Instead of zones or groups, this airline uses binary space partitioning to seat people. A seat might be specified like FBFBBFFRLR, where F means \"front\", B means \"back\", L means \"left\", and R means \"right\".\n",
        "\n",
        "The first 7 characters will either be F or B; these specify exactly one of the 128 rows on the plane (numbered 0 through 127). Each letter tells you which half of a region the given seat is in. Start with the whole list of rows; the first letter indicates whether the seat is in the front (0 through 63) or the back (64 through 127). The next letter indicates which half of that region the seat is in, and so on until you're left with exactly one row.\n",
        "\n",
        "For example, consider just the first seven characters of FBFBBFFRLR:\n",
        "\n",
        "Start by considering the whole range, rows 0 through 127.\n",
        "F means to take the lower half, keeping rows 0 through 63.\n",
        "B means to take the upper half, keeping rows 32 through 63.\n",
        "F means to take the lower half, keeping rows 32 through 47.\n",
        "B means to take the upper half, keeping rows 40 through 47.\n",
        "B keeps rows 44 through 47.\n",
        "F keeps rows 44 through 45.\n",
        "The final F keeps the lower of the two, row 44.\n",
        "The last three characters will be either L or R; these specify exactly one of the 8 columns of seats on the plane (numbered 0 through 7). The same process as above proceeds again, this time with only three steps. L means to keep the lower half, while R means to keep the upper half.\n",
        "\n",
        "For example, consider just the last 3 characters of FBFBBFFRLR:\n",
        "\n",
        "Start by considering the whole range, columns 0 through 7.\n",
        "R means to take the upper half, keeping columns 4 through 7.\n",
        "L means to take the lower half, keeping columns 4 through 5.\n",
        "The final R keeps the upper of the two, column 5.\n",
        "So, decoding FBFBBFFRLR reveals that it is the seat at row 44, column 5.\n",
        "\n",
        "Every seat also has a unique seat ID: multiply the row by 8, then add the column. In this example, the seat has ID 44 * 8 + 5 = 357.\n",
        "\n",
        "Here are some other boarding passes:\n",
        "```\n",
        "BFFFBBFRRR: row 70, column 7, seat ID 567.\n",
        "FFFBBBFRRR: row 14, column 7, seat ID 119.\n",
        "BBFFBBFRLL: row 102, column 4, seat ID 820.\n",
        "```\n",
        "As a sanity check, look through your list of boarding passes. What is the highest seat ID on a boarding pass?\n"
      ]
    },
    {
      "cell_type": "code",
      "metadata": {
        "colab": {
          "base_uri": "https://localhost:8080/"
        },
        "id": "s31yIM2mQ3Vk",
        "outputId": "6a42bf1b-6731-4b08-97ca-78d48b4cb636"
      },
      "source": [
        "from google.colab import drive\n",
        "drive.mount('gdrive')"
      ],
      "execution_count": 1,
      "outputs": [
        {
          "output_type": "stream",
          "text": [
            "Drive already mounted at gdrive; to attempt to forcibly remount, call drive.mount(\"gdrive\", force_remount=True).\n"
          ],
          "name": "stdout"
        }
      ]
    },
    {
      "cell_type": "code",
      "metadata": {
        "id": "eT1IfzrbRM2B"
      },
      "source": [
        "path = \"/content/gdrive/My Drive/Colab Notebooks/Advent2020/p5_input.txt\"\n",
        "myfile = open(path)"
      ],
      "execution_count": 2,
      "outputs": []
    },
    {
      "cell_type": "code",
      "metadata": {
        "colab": {
          "base_uri": "https://localhost:8080/",
          "height": 344
        },
        "id": "lqscjifrfpUl",
        "outputId": "48d531c8-cebf-4f74-f219-818d2cbfb5ab"
      },
      "source": [
        "import pandas as pd\n",
        "import copy\n",
        "\n",
        "df = pd.read_csv(path, header=None, names=[\"seats\"])\n",
        "df.info()\n",
        "df[0:5]"
      ],
      "execution_count": 3,
      "outputs": [
        {
          "output_type": "stream",
          "text": [
            "<class 'pandas.core.frame.DataFrame'>\n",
            "RangeIndex: 897 entries, 0 to 896\n",
            "Data columns (total 1 columns):\n",
            " #   Column  Non-Null Count  Dtype \n",
            "---  ------  --------------  ----- \n",
            " 0   seats   897 non-null    object\n",
            "dtypes: object(1)\n",
            "memory usage: 7.1+ KB\n"
          ],
          "name": "stdout"
        },
        {
          "output_type": "execute_result",
          "data": {
            "text/html": [
              "<div>\n",
              "<style scoped>\n",
              "    .dataframe tbody tr th:only-of-type {\n",
              "        vertical-align: middle;\n",
              "    }\n",
              "\n",
              "    .dataframe tbody tr th {\n",
              "        vertical-align: top;\n",
              "    }\n",
              "\n",
              "    .dataframe thead th {\n",
              "        text-align: right;\n",
              "    }\n",
              "</style>\n",
              "<table border=\"1\" class=\"dataframe\">\n",
              "  <thead>\n",
              "    <tr style=\"text-align: right;\">\n",
              "      <th></th>\n",
              "      <th>seats</th>\n",
              "    </tr>\n",
              "  </thead>\n",
              "  <tbody>\n",
              "    <tr>\n",
              "      <th>0</th>\n",
              "      <td>BFBBFFBRRL</td>\n",
              "    </tr>\n",
              "    <tr>\n",
              "      <th>1</th>\n",
              "      <td>BFBFFFFRLL</td>\n",
              "    </tr>\n",
              "    <tr>\n",
              "      <th>2</th>\n",
              "      <td>FBFBFFBRRR</td>\n",
              "    </tr>\n",
              "    <tr>\n",
              "      <th>3</th>\n",
              "      <td>FFBBBFBRLL</td>\n",
              "    </tr>\n",
              "    <tr>\n",
              "      <th>4</th>\n",
              "      <td>BBBFBFBRLR</td>\n",
              "    </tr>\n",
              "  </tbody>\n",
              "</table>\n",
              "</div>"
            ],
            "text/plain": [
              "        seats\n",
              "0  BFBBFFBRRL\n",
              "1  BFBFFFFRLL\n",
              "2  FBFBFFBRRR\n",
              "3  FFBBBFBRLL\n",
              "4  BBBFBFBRLR"
            ]
          },
          "metadata": {
            "tags": []
          },
          "execution_count": 3
        }
      ]
    },
    {
      "cell_type": "code",
      "metadata": {
        "id": "ergdLfV0Ucly",
        "colab": {
          "base_uri": "https://localhost:8080/"
        },
        "outputId": "1c428430-de66-4cc3-b524-6b7532c57b25"
      },
      "source": [
        "max_value = 0\n",
        "tickets = []\n",
        "ticket = {}\n",
        "for i in range(len(df)):\n",
        "  ticket['barcode'] = df.iloc[i][0]\n",
        "  row = [0,127]\n",
        "  seat = [0,7]\n",
        "  for k in range(len(df.iloc[i][0])):\n",
        "    if k<7:\n",
        "      temp = (row[0]+row[1]+1)/2\n",
        "      if df.iloc[i][0][k] == 'F':\n",
        "        row[1] = temp-1\n",
        "      else:\n",
        "        row[0] = temp\n",
        "    else:\n",
        "      seatemp = (seat[0]+seat[1]+1)/2\n",
        "      if df.iloc[i][0][k] == 'L':\n",
        "        seat[1] = seatemp-1\n",
        "      else:\n",
        "        seat[0] = seatemp\n",
        "  ticket['row'] = int(row[0])\n",
        "  ticket['seat'] = int(seat[0])\n",
        "  ticket['id'] = int(row[0]*8+seat[0])\n",
        "  tickets.append(copy.deepcopy(ticket))\n",
        "tickets = pd.DataFrame(tickets) \n",
        "print(\"The highest id is {}\".format(tickets['id'].max()))\n",
        "print(\"The ticket is \\n{}\".format(tickets.iloc[tickets['id'].argmax()]))\n",
        "# print(\"There are {} valid entries\".format(counter))"
      ],
      "execution_count": 4,
      "outputs": [
        {
          "output_type": "stream",
          "text": [
            "The highest id is 965\n",
            "The ticket is \n",
            "barcode    BBBBFFFRLR\n",
            "row               120\n",
            "seat                5\n",
            "id                965\n",
            "Name: 452, dtype: object\n"
          ],
          "name": "stdout"
        }
      ]
    },
    {
      "cell_type": "markdown",
      "metadata": {
        "id": "q2SyubbCdm0Q"
      },
      "source": [
        "### Part Two\n",
        "Ding! The \"fasten seat belt\" signs have turned on. Time to find your seat.\n",
        "\n",
        "It's a completely full flight, so your seat should be the only missing boarding pass in your list. However, there's a catch: some of the seats at the very front and back of the plane don't exist on this aircraft, so they'll be missing from your list as well.\n",
        "\n",
        "Your seat wasn't at the very front or back, though; the seats with IDs +1 and -1 from yours will be in your list.\n",
        "\n",
        "What is the ID of your seat?\n",
        "\n"
      ]
    },
    {
      "cell_type": "code",
      "metadata": {
        "id": "kvlBTW_oOnEI"
      },
      "source": [
        "tickets.sort_values(inplace=True,ascending=True, by='id')\n"
      ],
      "execution_count": 6,
      "outputs": []
    },
    {
      "cell_type": "code",
      "metadata": {
        "colab": {
          "base_uri": "https://localhost:8080/"
        },
        "id": "JM2rHwdyaCkC",
        "outputId": "c3e164d5-e0fe-4877-c6d7-8e5131ca56bd"
      },
      "source": [
        "for i in range(1,len(tickets)):\n",
        "  if (tickets.iloc[i]['id'] - tickets.iloc[i-1]['id']) != 1:\n",
        "    print('Missing ticket is between the following two')\n",
        "    print('Row: {}, Seat: {} with id: {}'.format(tickets.iloc[i-1]['row'],tickets.iloc[i-1]['seat'],tickets.iloc[i-1]['id']))\n",
        "    print('Row: {}, Seat: {} with id: {}'.format(tickets.iloc[i]['row'],tickets.iloc[i]['seat'],tickets.iloc[i]['id']))\n",
        " "
      ],
      "execution_count": 8,
      "outputs": [
        {
          "output_type": "stream",
          "text": [
            "Missing ticket is between the following two\n",
            "Row: 65, Seat: 3 with id: 523\n",
            "Row: 65, Seat: 5 with id: 525\n"
          ],
          "name": "stdout"
        }
      ]
    }
  ]
}